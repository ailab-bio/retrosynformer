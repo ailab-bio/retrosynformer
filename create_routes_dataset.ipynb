{
 "cells": [
  {
   "cell_type": "code",
   "execution_count": 1,
   "metadata": {},
   "outputs": [],
   "source": [
    "import pandas as pd\n",
    "import pickle\n",
    "import matplotlib.pyplot as plt\n",
    "import json"
   ]
  },
  {
   "cell_type": "markdown",
   "metadata": {},
   "source": [
    "# Read routes"
   ]
  },
  {
   "cell_type": "code",
   "execution_count": null,
   "metadata": {},
   "outputs": [
    {
     "name": "stdout",
     "output_type": "stream",
     "text": [
      "number of patents 66821\n",
      "number of routes in dataset:  457166\n"
     ]
    }
   ],
   "source": [
    "routes_path = \"Paroutes/V2.1/loaded_routes.pickle\" #adjust path\n",
    "template_library_path = \"Paroutes/Uspto-2.1/Templates-grouped/uspto_template_library.csv\" #adjust path\n",
    "unique_templates_path = \"Paroutes/Uspto-2.1/uspto_unique_templates.csv.gz\" #adjust path\n",
    "\n",
    "save_folder = \"data/uspto_routes/\"\n",
    "suffix = \"\"\n",
    "\n",
    "with open(routes_path, \"rb\") as file:\n",
    "    data = pickle.load(file)\n",
    "\n",
    "# number of patents\n",
    "print(\"number of patents\", len(data))\n",
    "# number of total routes\n",
    "n_routes = sum([len(i) for i in data.values()])\n",
    "print(\"number of routes in dataset: \", n_routes)"
   ]
  },
  {
   "cell_type": "markdown",
   "metadata": {},
   "source": [
    "# Create dictionaries to convert templates and reaction hashs"
   ]
  },
  {
   "cell_type": "code",
   "execution_count": null,
   "metadata": {},
   "outputs": [],
   "source": [
    "\n",
    "template_library_general = pd.read_csv(\n",
    "    template_library_path, sep=\"\\t\"\n",
    ")\n",
    "\n",
    "reaction2template_hash = {\n",
    "    row[\"reaction_hash\"]: row[\"template_hash\"]\n",
    "    for _, row in template_library_general.iterrows()\n",
    "}\n",
    "reaction2template_hash_general = {\n",
    "    row[\"reaction_hash\"]: row[\"template_hash_corr\"]\n",
    "    for _, row in template_library_general.iterrows()\n",
    "}\n",
    "\n",
    "template_hash2template_hash_general = {\n",
    "    row[\"template_hash\"]: row[\"template_hash_corr\"]\n",
    "    for _, row in template_library_general.iterrows()\n",
    "}\n",
    "\n",
    "template2template_general = {\n",
    "    row[\"retro_template\"]: row[\"retro_template_corr\"]\n",
    "    for _, row in template_library_general.iterrows()\n",
    "}\n",
    "\n",
    "template_hash2template_hash_general = {}\n",
    "\n",
    "duplicates = []\n",
    "for _, row in template_library_general.iterrows():\n",
    "    key = row[\"template_hash\"]\n",
    "    if key not in template2template_general.keys():\n",
    "        template_hash2template_hash_general[key] = row[\"template_hash_corr\"]\n",
    "    else:\n",
    "        duplicates.append((row[\"template_hash\"], row[\"template_hash_corr\"]))\n",
    "\n",
    "template_hash2template = {\n",
    "    row[\"template_hash\"]: row[\"retro_template\"]\n",
    "    for _, row in template_library_general.iterrows()\n",
    "}\n",
    "\n",
    "template_general_hash2template_general = {\n",
    "    row[\"template_hash_corr\"]: row[\"retro_template_corr\"]\n",
    "    for _, row in template_library_general.iterrows()\n",
    "}"
   ]
  },
  {
   "cell_type": "code",
   "execution_count": null,
   "metadata": {},
   "outputs": [
    {
     "name": "stdout",
     "output_type": "stream",
     "text": [
      "Stats from reactions and templates\n",
      "number of unique reactions:  819789\n",
      "number of unique templates:  42551\n",
      "number of unique r0_templates:  13812\n",
      "number of unique corr_templates:  20276\n"
     ]
    }
   ],
   "source": [
    "print(\"Stats from reactions and templates\")\n",
    "print(\"number of unique reactions: \", len(template_library_general))\n",
    "print(\n",
    "    \"number of unique templates: \", len(set(template_library_general[\"template_hash\"]))\n",
    ")\n",
    "print(\n",
    "    \"number of unique r0_templates: \",\n",
    "    len(set(template_library_general[\"template_hash_r0\"])),\n",
    ")\n",
    "print(\n",
    "    \"number of unique corr_templates: \",\n",
    "    len(set(template_library_general[\"template_hash_corr\"])),\n",
    ")"
   ]
  },
  {
   "cell_type": "markdown",
   "metadata": {},
   "source": [
    "#  Create list with all routes containing all relevant template information"
   ]
  },
  {
   "cell_type": "code",
   "execution_count": null,
   "metadata": {},
   "outputs": [],
   "source": [
    "# Creating all_routes that extracts all reaction_hashs from each route and converts to template_hash and template_hash_general\n",
    "\n",
    "all_routes = []\n",
    "\n",
    "all_patents = list(data.keys())\n",
    "for patent in all_patents:\n",
    "    routes = data[patent]\n",
    "    for route in routes:\n",
    "        hash_in_route = []\n",
    "        hash_in_route_general, hash_in_route = [], []\n",
    "        hashs = str(route).split(\"'reaction_hash': '\")\n",
    "        for hash in hashs[1:]:\n",
    "            hash = hash.split(\"',\")[0]\n",
    "            hashs.append(hash)\n",
    "            hash_in_route_general.append(reaction2template_hash_general[hash])\n",
    "            hash_in_route.append(reaction2template_hash[hash])\n",
    "\n",
    "        all_routes.append(\n",
    "            {\n",
    "                \"route\": route,\n",
    "                \"hash\": hashs,\n",
    "                \"template_hash\": hash_in_route,\n",
    "                \"template_hash_general\": hash_in_route_general,\n",
    "                \"patent\": patent,\n",
    "            }\n",
    "        )"
   ]
  },
  {
   "cell_type": "markdown",
   "metadata": {},
   "source": [
    "# Plot the number of reaction templates and the number of routes"
   ]
  },
  {
   "cell_type": "code",
   "execution_count": null,
   "metadata": {},
   "outputs": [
    {
     "name": "stdout",
     "output_type": "stream",
     "text": [
      "10000\n",
      "5000\n",
      "2000\n",
      "1000\n",
      "500\n",
      "100\n"
     ]
    },
    {
     "data": {
      "image/png": "[encoded data removed]",
      "text/plain": [
       "<Figure size 640x480 with 1 Axes>"
      ]
     },
     "metadata": {},
     "output_type": "display_data"
    }
   ],
   "source": [
    "# Filtering on the most frequently occuring templates\n",
    "\n",
    "unique_templates = pd.read_csv(\n",
    "    unique_templates_path,\n",
    "    sep=\"\\t\",\n",
    ")\n",
    "top_n_templates = [10000, 5000, 2000, 1000, 500, 100]\n",
    "\n",
    "n_routes_for_frequency = []\n",
    "n_general_templates = []\n",
    "for top_n in top_n_templates:\n",
    "    print(top_n)\n",
    "    filtered_routes = []\n",
    "    filtered_templates = set(\n",
    "        unique_templates.sort_values(by=\"library_occurence\", ascending=False)[0:top_n][\n",
    "            \"template_hash\"\n",
    "        ].values\n",
    "    )\n",
    "\n",
    "    for route in all_routes:\n",
    "        templates_in_route = set(route[\"template_hash\"])\n",
    "        if templates_in_route.issubset(filtered_templates):\n",
    "            filtered_routes.append(route)\n",
    "\n",
    "    n_routes_for_frequency.append(len(filtered_routes))\n",
    "\n",
    "    filtered_templates_general = [\n",
    "        template2template_general[template_hash2template[t]] for t in filtered_templates\n",
    "    ]\n",
    "\n",
    "    n_general_templates.append(len(set(filtered_templates_general)))\n",
    "\n",
    "fig = plt.Figure()\n",
    "fig = plt.plot(top_n_templates, n_routes_for_frequency, label=\"Standard template\")\n",
    "fig = plt.plot(n_general_templates, n_routes_for_frequency, label=\"General template\")\n",
    "plt.xlabel(\"Top X templates in USPTO\")\n",
    "plt.ylabel(\"Number of routes with only the X \\n most frequent templates\")\n",
    "plt.legend()\n",
    "plt.show()"
   ]
  },
  {
   "cell_type": "markdown",
   "metadata": {},
   "source": [
    "# Filter the routes based on the most frequent reaction hashs"
   ]
  },
  {
   "cell_type": "code",
   "execution_count": null,
   "metadata": {},
   "outputs": [
    {
     "name": "stdout",
     "output_type": "stream",
     "text": [
      "1000\n",
      "number of routes 148112\n",
      "number of templates 1000\n",
      "number of general templates 588\n"
     ]
    }
   ],
   "source": [
    "unique_templates = pd.read_csv(\n",
    "    unique_templates_path, sep=\"\\t\"\n",
    ")\n",
    "filtered_templates = unique_templates.sort_values(\n",
    "    by=\"library_occurence\", ascending=False\n",
    ")\n",
    "\n",
    "top_n = 1000\n",
    "filtered_routes = []\n",
    "n_routes_for_frequency = []\n",
    "filtered_templates = set(\n",
    "    unique_templates.sort_values(by=\"library_occurence\", ascending=False)[0:top_n][\n",
    "        \"template_hash\"\n",
    "    ].values\n",
    ")\n",
    "print(len(filtered_templates))\n",
    "\n",
    "for route in all_routes:\n",
    "    templates_in_route = set(route[\"template_hash\"])\n",
    "    assert len(filtered_templates) == top_n\n",
    "    assert len(templates_in_route) > 0\n",
    "    if templates_in_route.issubset(filtered_templates):\n",
    "        filtered_routes.append(route)\n",
    "\n",
    "n_routes_for_frequency.append(len(filtered_routes))\n",
    "\n",
    "filtered_templates_general = [\n",
    "    template_hash2template_hash_general[t] for t in filtered_templates\n",
    "]\n",
    "\n",
    "\n",
    "print(\"number of routes\", len(filtered_routes))\n",
    "print(\"number of templates\", len(set(filtered_templates)))\n",
    "print(\"number of general templates\", len(set(filtered_templates_general)))"
   ]
  },
  {
   "cell_type": "code",
   "execution_count": null,
   "metadata": {},
   "outputs": [],
   "source": [
    "\n",
    "\n",
    "filtered_templates_general = list(set(filtered_templates_general))\n",
    "filtered_templates_smarts = [\n",
    "    template_hash2template[hash] for hash in filtered_templates\n",
    "]\n",
    "filtered_templates_general_smarts = [\n",
    "    template_general_hash2template_general[hash] for hash in filtered_templates_general\n",
    "]\n",
    "\n",
    "# save filtered_routes\n",
    "save_routes = save_folder + f\"uspto_routes_top{top_n}{suffix}.pickle\"\n",
    "with open(save_routes, \"wb\") as file:\n",
    "    pickle.dump(filtered_routes, file)\n",
    "\n",
    "# save filtered_templates_general_smarts\n",
    "save_templates = save_folder + f\"uspto_top{top_n}_general_templates_hash{suffix}.txt\"\n",
    "with open(save_templates, \"w\") as file:\n",
    "    for item in filtered_templates_general:\n",
    "        file.write(item)\n",
    "        file.write(\"\\n\")\n",
    "\n",
    "# save filtered_templates_general_smarts\n",
    "save_templates = save_folder + f\"uspto_top{top_n}_general_templates{suffix}.txt\"\n",
    "with open(save_templates, \"w\") as file:\n",
    "    for item in filtered_templates_general_smarts:\n",
    "        file.write(item)\n",
    "        file.write(\"\\n\")\n",
    "\n",
    "df_templates = pd.DataFrame(\n",
    "    {\"smiles\": filtered_templates_general_smarts, \"hash\": filtered_templates_general}\n",
    ")\n",
    "save_templates = (\n",
    "    save_folder + f\"uspto_routes_top{top_n}_general_templates{suffix}.pickle\"\n",
    ")\n",
    "\n",
    "df_templates.to_pickle(save_templates)"
   ]
  },
  {
   "cell_type": "markdown",
   "metadata": {},
   "source": [
    "# Create building block file"
   ]
  },
  {
   "cell_type": "code",
   "execution_count": null,
   "metadata": {},
   "outputs": [
    {
     "name": "stdout",
     "output_type": "stream",
     "text": [
      "391326\n",
      "Number of building blocks in all routes:  38521\n"
     ]
    },
    {
     "data": {
      "text/html": [
       "<div>\n",
       "<style scoped>\n",
       "    .dataframe tbody tr th:only-of-type {\n",
       "        vertical-align: middle;\n",
       "    }\n",
       "\n",
       "    .dataframe tbody tr th {\n",
       "        vertical-align: top;\n",
       "    }\n",
       "\n",
       "    .dataframe thead th {\n",
       "        text-align: right;\n",
       "    }\n",
       "</style>\n",
       "<table border=\"1\" class=\"dataframe\">\n",
       "  <thead>\n",
       "    <tr style=\"text-align: right;\">\n",
       "      <th></th>\n",
       "      <th>inchi_key</th>\n",
       "    </tr>\n",
       "  </thead>\n",
       "  <tbody>\n",
       "    <tr>\n",
       "      <th>0</th>\n",
       "      <td>KJXOBCYDQHCFIH-UHFFFAOYSA-N</td>\n",
       "    </tr>\n",
       "    <tr>\n",
       "      <th>1</th>\n",
       "      <td>TYMSKIYEAHPCAP-UHFFFAOYSA-N</td>\n",
       "    </tr>\n",
       "    <tr>\n",
       "      <th>2</th>\n",
       "      <td>DFOWMRQFRZJLNS-FQEVSTJZSA-N</td>\n",
       "    </tr>\n",
       "    <tr>\n",
       "      <th>3</th>\n",
       "      <td>IHXVDUQOHZEJLU-UHFFFAOYSA-N</td>\n",
       "    </tr>\n",
       "    <tr>\n",
       "      <th>4</th>\n",
       "      <td>YAZNOHYDAGXWLC-UHFFFAOYSA-N</td>\n",
       "    </tr>\n",
       "    <tr>\n",
       "      <th>...</th>\n",
       "      <td>...</td>\n",
       "    </tr>\n",
       "    <tr>\n",
       "      <th>38516</th>\n",
       "      <td>IQXCPFUERXPOCB-UHFFFAOYSA-N</td>\n",
       "    </tr>\n",
       "    <tr>\n",
       "      <th>38517</th>\n",
       "      <td>NXGSPDVKZCVBCA-UHFFFAOYSA-N</td>\n",
       "    </tr>\n",
       "    <tr>\n",
       "      <th>38518</th>\n",
       "      <td>LBXNUOBBOLWNBL-UHFFFAOYSA-N</td>\n",
       "    </tr>\n",
       "    <tr>\n",
       "      <th>38519</th>\n",
       "      <td>RYVZULLSFMHZHS-UHFFFAOYSA-N</td>\n",
       "    </tr>\n",
       "    <tr>\n",
       "      <th>38520</th>\n",
       "      <td>PNQIEWPPSCIQJF-UHFFFAOYSA-N</td>\n",
       "    </tr>\n",
       "  </tbody>\n",
       "</table>\n",
       "<p>38521 rows × 1 columns</p>\n",
       "</div>"
      ],
      "text/plain": [
       "                         inchi_key\n",
       "0      KJXOBCYDQHCFIH-UHFFFAOYSA-N\n",
       "1      TYMSKIYEAHPCAP-UHFFFAOYSA-N\n",
       "2      DFOWMRQFRZJLNS-FQEVSTJZSA-N\n",
       "3      IHXVDUQOHZEJLU-UHFFFAOYSA-N\n",
       "4      YAZNOHYDAGXWLC-UHFFFAOYSA-N\n",
       "...                            ...\n",
       "38516  IQXCPFUERXPOCB-UHFFFAOYSA-N\n",
       "38517  NXGSPDVKZCVBCA-UHFFFAOYSA-N\n",
       "38518  LBXNUOBBOLWNBL-UHFFFAOYSA-N\n",
       "38519  RYVZULLSFMHZHS-UHFFFAOYSA-N\n",
       "38520  PNQIEWPPSCIQJF-UHFFFAOYSA-N\n",
       "\n",
       "[38521 rows x 1 columns]"
      ]
     },
     "execution_count": 18,
     "metadata": {},
     "output_type": "execute_result"
    }
   ],
   "source": [
    "leaves = []\n",
    "for route in filtered_routes:\n",
    "    leaves.extend(route[\"route\"][\"leaves\"])\n",
    "\n",
    "print(len(leaves))\n",
    "leaves = list(set(leaves))\n",
    "print(\"Number of building blocks in all routes: \", len(leaves))\n",
    "\n",
    "df_bb = pd.DataFrame({\"inchi_key\": leaves})\n",
    "df_bb"
   ]
  },
  {
   "cell_type": "code",
   "execution_count": null,
   "metadata": {},
   "outputs": [],
   "source": [
    "save_bb_path = save_folder + f\"building_blocks_uspto_top{top_n}_templates{suffix}.csv\"\n",
    "df_bb.to_csv(save_bb_path)"
   ]
  }
 ],
 "metadata": {
  "kernelspec": {
   "display_name": "Python 3",
   "language": "python",
   "name": "python3"
  },
  "language_info": {
   "codemirror_mode": {
    "name": "ipython",
    "version": 3
   },
   "file_extension": ".py",
   "mimetype": "text/x-python",
   "name": "python",
   "nbconvert_exporter": "python",
   "pygments_lexer": "ipython3",
   "version": "3.8.18"
  }
 },
 "nbformat": 4,
 "nbformat_minor": 4
}
